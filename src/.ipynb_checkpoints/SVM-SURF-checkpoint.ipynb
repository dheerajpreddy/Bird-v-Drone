{
 "cells": [
  {
   "cell_type": "markdown",
   "metadata": {},
   "source": [
    "# Building an SVM with BOVW"
   ]
  },
  {
   "cell_type": "markdown",
   "metadata": {},
   "source": [
    "## Training the SVM with SIFT, SURF and ORB features"
   ]
  },
  {
   "cell_type": "code",
   "execution_count": 7,
   "metadata": {},
   "outputs": [],
   "source": [
    "#!/usr/local/bin/python2.7\n",
    "\n",
    "import argparse as ap\n",
    "# Importing library that supports user friendly commandline interfaces\n",
    "import cv2\n",
    "# Importing the opencv library\n",
    "import numpy as np\n",
    "# Importing the array operations library for python\n",
    "import os\n",
    "# Importing the library which supports standard systems commands\n",
    "from scipy.cluster.vq import *\n",
    "# Importing the library which classifies set of observations into clusters\n",
    "from sklearn.preprocessing import StandardScaler\n",
    "# Importing the library that supports centering and scaling vectors\n",
    "from sklearn.svm import LinearSVC\n",
    "# Importing the svm library\n",
    "from sklearn.externals import joblib\n",
    "# Importing library that supports the functionality to save the dictionary\n",
    "import matplotlib.pyplot as plt\n",
    "\n",
    "%matplotlib inline"
   ]
  },
  {
   "cell_type": "code",
   "execution_count": 8,
   "metadata": {},
   "outputs": [],
   "source": [
    "def imlist(path):\n",
    "    \"\"\"\n",
    "    The function imlist returns all the names of the files in \n",
    "    the directory path supplied as argument to the function.\n",
    "    \"\"\"\n",
    "    return [os.path.join(path, f) for f in os.listdir(path)]\n",
    "\n",
    "def imshow(im_title, im):\n",
    "    ''' This is function to display the image'''\n",
    "    plt.figure()  \n",
    "    plt.title(im_title)\n",
    "    plt.axis(\"off\")\n",
    "    if len(im.shape) == 2:\n",
    "        plt.imshow(im, cmap = \"gray\")\n",
    "    else:\n",
    "        im_display = cv2.cvtColor(im, cv2.COLOR_RGB2BGR)\n",
    "        plt.imshow(im_display)\n",
    "    plt.show()\n",
    "\n",
    "def imreads(path):\n",
    "    '''\n",
    "    This reads all the images in a given folder and returns the results \n",
    "    '''\n",
    "    images_path = imlist(\"/home/bikz05/Desktop/back_projection\")\n",
    "    images = []\n",
    "    for image_path in images_path:\n",
    "        images.append(cv2.imread(image_path, cv2.CV_LOAD_IMAGE_COLOR))\n",
    "    return images\n",
    "\n",
    "def show(image, name=\"Image\"):\n",
    "    '''\n",
    "    Routine to display the image.\n",
    "    '''\n",
    "    cv2.namedWindow(name, cv2.WINDOW_NORMAL)\n",
    "    cv2.imshow(name, image)\n",
    "    cv2.waitKey(0)"
   ]
  },
  {
   "cell_type": "code",
   "execution_count": 67,
   "metadata": {},
   "outputs": [],
   "source": [
    "train_path = \"../dataset/train/\"\n",
    "training_names = os.listdir(train_path)"
   ]
  },
  {
   "cell_type": "code",
   "execution_count": 68,
   "metadata": {},
   "outputs": [],
   "source": [
    "# Get all the path to the images and save them in a list\n",
    "# image_paths and the corresponding label in image_paths\n",
    "image_paths = []\n",
    "image_classes = []\n",
    "class_id = 0\n",
    "for training_name in training_names:\n",
    "    dir = os.path.join(train_path, training_name)\n",
    "    class_path = imlist(dir)\n",
    "    image_paths+=class_path\n",
    "    image_classes+=[class_id]*len(class_path)\n",
    "    class_id+=1\n",
    "# print image_classes"
   ]
  },
  {
   "cell_type": "code",
   "execution_count": 97,
   "metadata": {},
   "outputs": [],
   "source": [
    "brief = cv2.xfeatures2d.BriefDescriptorExtractor_create()\n",
    "daisy = cv2.xfeatures2d."
   ]
  },
  {
   "cell_type": "code",
   "execution_count": null,
   "metadata": {
    "scrolled": true
   },
   "outputs": [
    {
     "name": "stdout",
     "output_type": "stream",
     "text": [
      "../dataset/drones/1_download (10).jpeg\n"
     ]
    }
   ],
   "source": [
    "# Create feature extraction and keypoint detector objects\n",
    "fea_det = cv2.xfeatures2d.SIFT_create()\n",
    "# des_ext = cv2.DescriptorExtractor_create(\"SIFT\")\n",
    "surf = cv2.xfeatures2d.SURF_create()\n",
    "orb = cv2.ORB_create(nfeatures=1500)\n",
    "# brief = cv2.xfeatures2d.brief()\n",
    "# List where all the descriptors are stored\n",
    "des_list = []\n",
    "\n",
    "error_count = 0\n",
    "for image_path in image_paths:\n",
    "    im = cv2.imread(image_path)\n",
    "    try:\n",
    "        (kps, des) = fea_det.detectAndCompute(im, None)\n",
    "        (kps2, des2) = orb.detectAndCompute(im, None)\n",
    "        (kps3, des3) = surf.detectAndCompute(im,None)\n",
    "#         print des.shape, des2.shape, des3.shape\n",
    "    except:\n",
    "        print image_path\n",
    "    if des is not None and des2 is not None and des3 is not None:\n",
    "        des_list.append((image_path, des))\n",
    "    else:\n",
    "        print image_path\n",
    "print \"done\"\n",
    "# Stack all the descriptors vertically in a numpy array\n",
    "descriptors = des_list[0][1]\n",
    "for image_path, descriptor in des_list[1:]:\n",
    "    descriptors = np.vstack((descriptors, descriptor))\n"
   ]
  },
  {
   "cell_type": "code",
   "execution_count": 76,
   "metadata": {},
   "outputs": [],
   "source": [
    "descriptors = descriptors.astype(float)"
   ]
  },
  {
   "cell_type": "code",
   "execution_count": 51,
   "metadata": {
    "scrolled": true
   },
   "outputs": [
    {
     "name": "stdout",
     "output_type": "stream",
     "text": [
      "(25, 128) (39, 32)\n"
     ]
    }
   ],
   "source": [
    "im = cv2.imread(image_path)\n",
    "(kps1, des1) = fea_det.detectAndCompute(im, None)\n",
    "(kps2, des2) = orb.detectAndCompute(im, None)\n",
    "print des1.shape, des2.shape"
   ]
  },
  {
   "cell_type": "code",
   "execution_count": null,
   "metadata": {},
   "outputs": [],
   "source": [
    "# Perform k-means clustering\n",
    "k = 100\n",
    "voc, variance = kmeans(descriptors, k, 1)\n",
    "\n",
    "# Calculate the histogram of features\n",
    "im_features = np.zeros((len(image_paths), k), \"float32\")\n",
    "for i in xrange(len(image_paths)):\n",
    "    words, distance = vq(des_list[i][1],voc)\n",
    "    for w in words:\n",
    "        im_features[i][w] += 1 # Caluculating the histogram of features"
   ]
  },
  {
   "cell_type": "code",
   "execution_count": null,
   "metadata": {},
   "outputs": [],
   "source": [
    "# Perform Tf-Idf vectorization\n",
    "nbr_occurences = np.sum( (im_features > 0) * 1, axis = 0)\n",
    "# Calculating the number of occurrences\n",
    "idf = np.array(np.log((1.0*len(image_paths)+1) / (1.0*nbr_occurences + 1)), 'float32')\n",
    "# Giving weight to one that occurs more frequently\n",
    "\n",
    "# Scaling the words\n",
    "stdSlr = StandardScaler().fit(im_features)\n",
    "im_features = stdSlr.transform(im_features)  # Scaling the visual words for better Prediction\n",
    "\n",
    "# Train the Linear SVM\n",
    "clf = LinearSVC()\n",
    "clf.fit(im_features, np.array(image_classes))\n",
    "\n",
    "# Save the SVM\n",
    "joblib.dump((clf, training_names, stdSlr, k, voc), \"bof.pkl\", compress=3)"
   ]
  },
  {
   "cell_type": "markdown",
   "metadata": {},
   "source": [
    "## Testing the SVM "
   ]
  },
  {
   "cell_type": "code",
   "execution_count": null,
   "metadata": {},
   "outputs": [],
   "source": [
    "import argparse as ap\n",
    "# Importing library that supports user friendly commandline interfaces\n",
    "import cv2\n",
    "# Importing the opencv library\n",
    "import numpy as np\n",
    "# Importing the array operations library for python\n",
    "import os\n",
    "# Importing the library which supports standard systems commands\n",
    "from sklearn.svm import LinearSVC\n",
    "# Importing the library that supports linear support vector machine\n",
    "from sklearn.externals import joblib\n",
    "from scipy.cluster.vq import *\n",
    "# Importing the library which classifies set of observations into clusters\n",
    "from sklearn.preprocessing import StandardScaler\n",
    "# Importing the library that supports centering and scaling vectors"
   ]
  },
  {
   "cell_type": "code",
   "execution_count": null,
   "metadata": {},
   "outputs": [],
   "source": [
    "# Load the classifier, class names, scaler, number of clusters and vocabulary\n",
    "clf, classes_names, stdSlr, k, voc = joblib.load(\"bof.pkl\")\n",
    "test_path = \"../dataset/\""
   ]
  },
  {
   "cell_type": "code",
   "execution_count": null,
   "metadata": {},
   "outputs": [],
   "source": [
    "# Get the path of the testing image(s) and store them in a list\n",
    "image_paths = []\n",
    "image_classes = []\n",
    "class_id = 0\n",
    "testing_names = os.listdir(test_path)\n",
    "for testing_name in testing_names:\n",
    "        dir = os.path.join(test_path, testing_name)\n",
    "        class_path = imlist(dir)\n",
    "        image_paths+=class_path\n",
    "        image_classes+=[class_id]*len(class_path)\n",
    "        class_id+=1"
   ]
  },
  {
   "cell_type": "code",
   "execution_count": 107,
   "metadata": {},
   "outputs": [],
   "source": [
    "# Create feature extraction and keypoint detector objects\n",
    "fea_det = cv2.xfeatures2d.SIFT_create()\n",
    "surf = cv2.xfeatures2d.SURF_create()\n",
    "orb = cv2.ORB_create(nfeatures=1500)\n",
    "\n",
    "# des_ext = cv2.DescriptorExtractor_create(\"SIFT\")\n",
    "\n",
    "# List where all the descriptors are stored\n",
    "des_list = []\n",
    "\n",
    "for image_path in image_paths:\n",
    "    im = cv2.imread(image_path)\n",
    "    if im is None:\n",
    "        print \"No such file {}\\nCheck if the file exists\".format(image_path)\n",
    "        exit()\n",
    "    (kpts, des) = fea_det.detectAndCompute(im, None)\n",
    "    (kpts2, des2) = orb.detectAndCompute(im, None)\n",
    "    (kps3, des3) = surf.detectAndCompute(im,None)\n",
    "    # kpts = fea_det.detect(im)  # Computing the key points of test image\n",
    "    # kpts, des = des_ext.compute(im, kpts)  # Computing the descriptors of the test image\n",
    "    if des3 is not None:\n",
    "        des_list.append((image_path, des3))  # Appending the descriptors to a single list\n",
    "    else:\n",
    "        print image_path"
   ]
  },
  {
   "cell_type": "code",
   "execution_count": 108,
   "metadata": {},
   "outputs": [],
   "source": [
    "# Stack all the descriptors vertically in a numpy array\n",
    "descriptors = des_list[0][1]\n",
    "for image_path, descriptor in des_list[0:]:\n",
    "    descriptors = np.vstack((descriptors, descriptor))  # Stacking the descriptors in to a numpy array\n",
    "\n",
    "# # Calculating the histogram of features\n",
    "test_features = np.zeros((len(image_paths), k), \"float32\")\n",
    "for i in xrange(len(image_paths)):\n",
    "    words, distance = vq(des_list[i][1],voc)\n",
    "    for w in words:\n",
    "        test_features[i][w] += 1\n",
    "        # Calculating the histogram of features\n",
    "\n",
    "# Perform Tf-Idf vectorization\n",
    "nbr_occurences = np.sum( (test_features > 0) * 1, axis = 0)\n",
    "# Getting the number of occurrences of each word\n",
    "idf = np.array(np.log((1.0*len(image_paths)+1) / (1.0*nbr_occurences + 1)), 'float32')\n",
    "# Assigning weight to one that is occurring more frequently\n",
    "\n",
    "# Scale the features\n",
    "test_features = stdSlr.transform(test_features)\n",
    "\n",
    "# Perform the predictions\n",
    "predictions =  [classes_names[i] for i in clf.predict(test_features)]\n"
   ]
  },
  {
   "cell_type": "code",
   "execution_count": 109,
   "metadata": {},
   "outputs": [
    {
     "name": "stdout",
     "output_type": "stream",
     "text": [
      "0.82908301682\n"
     ]
    },
    {
     "data": {
      "text/plain": [
       "array([[ 599, 1244],\n",
       "       [   0,    0]])"
      ]
     },
     "execution_count": 109,
     "metadata": {},
     "output_type": "execute_result"
    }
   ],
   "source": [
    "from sklearn.metrics import confusion_matrix, classification_report\n",
    "wrong_count = 0\n",
    "pred_id = []\n",
    "actual = []\n",
    "for i in xrange(len(image_paths)):\n",
    "    if predictions[i] == \"birds\":\n",
    "        pred_id.append(\"birds\")\n",
    "    else:\n",
    "        pred_id.append(\"drones\")\n",
    "    if image_classes[i] == \"birds\":\n",
    "        actual.append(\"birds\")\n",
    "    else:\n",
    "        actual.append(\"drones\")\n",
    "    if predictions[i] == \"birds\" and image_classes[i] != 1:\n",
    "        # print predictions[i], image_classes[i]\n",
    "        wrong_count +=1\n",
    "    if predictions[i] == \"drones\" and image_classes[i] != 0:\n",
    "        # print predictions[i], image_classes[i]\n",
    "        wrong_count +=1\n",
    "print float(len(image_paths) - wrong_count)/len(image_paths)\n",
    "confusion_matrix(actual, pred_id, labels=[\"drones\", \"birds\"])"
   ]
  },
  {
   "cell_type": "code",
   "execution_count": 110,
   "metadata": {},
   "outputs": [
    {
     "name": "stdout",
     "output_type": "stream",
     "text": [
      "             precision    recall  f1-score   support\n",
      "\n",
      "      birds       0.00      0.00      0.00         0\n",
      "     drones       1.00      0.33      0.49      1843\n",
      "\n",
      "avg / total       1.00      0.33      0.49      1843\n",
      "\n"
     ]
    }
   ],
   "source": [
    "print classification_report(actual, pred_id)"
   ]
  },
  {
   "cell_type": "code",
   "execution_count": null,
   "metadata": {},
   "outputs": [],
   "source": []
  }
 ],
 "metadata": {
  "kernelspec": {
   "display_name": "Python 2",
   "language": "python",
   "name": "python2"
  },
  "language_info": {
   "codemirror_mode": {
    "name": "ipython",
    "version": 2
   },
   "file_extension": ".py",
   "mimetype": "text/x-python",
   "name": "python",
   "nbconvert_exporter": "python",
   "pygments_lexer": "ipython2",
   "version": "2.7.15"
  }
 },
 "nbformat": 4,
 "nbformat_minor": 2
}
