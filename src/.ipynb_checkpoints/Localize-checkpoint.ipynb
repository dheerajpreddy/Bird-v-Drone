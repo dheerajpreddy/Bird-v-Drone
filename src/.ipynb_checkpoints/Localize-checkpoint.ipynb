{
 "cells": [
  {
   "cell_type": "code",
   "execution_count": 2,
   "metadata": {},
   "outputs": [
    {
     "name": "stdout",
     "output_type": "stream",
     "text": [
      "1.15.4\n"
     ]
    }
   ],
   "source": [
    "import numpy as np\n",
    "from PIL import Image\n",
    "from matplotlib.pyplot import imshow\n",
    "import matplotlib.pyplot as plt\n",
    "from skimage import filters, morphology\n",
    "import skimage\n",
    "import os\n",
    "import random\n",
    "import cv2\n",
    "import time\n",
    "from sklearn.neighbors import KNeighborsClassifier\n",
    "\n",
    "print(np.__version__)\n",
    "\n",
    "%matplotlib inline"
   ]
  },
  {
   "cell_type": "code",
   "execution_count": 4,
   "metadata": {},
   "outputs": [],
   "source": [
    "imagesPath = \"../dataset/\"\n",
    "N = 200\n",
    "\n",
    "# birdsPath = imagesPath + \"birds/\"\n",
    "# testImageName = \"birds/001.Black_footed_Albatross/Black_footed_Albatross_0027_2134388676.jpg\""
   ]
  },
  {
   "cell_type": "code",
   "execution_count": 5,
   "metadata": {},
   "outputs": [],
   "source": [
    "def plot_images(images, _cmap=None):\n",
    "    fig=plt.figure(figsize=(30, 30))\n",
    "    rows = len(images)\n",
    "    columns = 1\n",
    "    for i, image in enumerate(images):\n",
    "        fig.add_subplot(rows, columns, i+1)\n",
    "        plt.imshow(image, cmap=_cmap)\n",
    "    plt.show()\n",
    "    "
   ]
  },
  {
   "cell_type": "code",
   "execution_count": 4,
   "metadata": {},
   "outputs": [
    {
     "name": "stdout",
     "output_type": "stream",
     "text": [
      "Fetching from  ['birds', 'drones']\n"
     ]
    }
   ],
   "source": [
    "\n",
    "images = []\n",
    "imageNames = []\n",
    "birdFeatures = []\n",
    "birdFeatures2 = []\n",
    "droneFeatures = []\n",
    "droneFeatures2 = []\n",
    "\n",
    "directories = os.listdir(imagesPath)\n",
    "directories.sort()\n",
    "print(\"Fetching from \", directories)\n",
    "\n",
    "\n",
    "numOfImages = 0\n",
    "for directory in directories:\n",
    "    ims = os.listdir(imagesPath + directory + '/')\n",
    "    ims.sort()\n",
    "    numOfImages = len(ims)\n",
    "    for imageName in ims:\n",
    "        imageNames.append((imagesPath + directory + '/' + imageName, directory))\n",
    "#         images.append(Image.open(imagesPath + directory + '/' + imageName).convert('L'))\n",
    "\n",
    "random.shuffle(imageNames)"
   ]
  },
  {
   "cell_type": "code",
   "execution_count": 5,
   "metadata": {},
   "outputs": [],
   "source": [
    "imagesLoaded = 0\n",
    "def loadImages(n):\n",
    "    global imagesLoaded\n",
    "    images = []\n",
    "    image_ids = []\n",
    "    for i in range(n):\n",
    "        if imagesLoaded >= numOfImages:\n",
    "            break\n",
    "        images.append(Image.open(imageNames[imagesLoaded][0]).convert('L'))\n",
    "        image_ids.append(imagesLoaded)\n",
    "        imagesLoaded += 1\n",
    "    #     plot_images(images)\n",
    "    print(\"Loaded \", n, \" images.\")\n",
    "\n",
    "    return image_ids, images"
   ]
  },
  {
   "cell_type": "code",
   "execution_count": 6,
   "metadata": {},
   "outputs": [
    {
     "name": "stdout",
     "output_type": "stream",
     "text": [
      "0.14.1\n"
     ]
    }
   ],
   "source": [
    "# Run Gaussian Filter\n",
    "print(skimage.__version__)\n",
    "\n",
    "def smoothenImages(images):\n",
    "    t = time.time()\n",
    "    smooth = []\n",
    "    for image in images:\n",
    "    #     edge = filters.laplace(np.asarray(image))\n",
    "        smooth.append(filters.gaussian(np.asarray(image), 1))\n",
    "\n",
    "#     plot_images(smooth)\n",
    "\n",
    "    print(\"Smoothened \", len(images), \" images.\")\n",
    "    print(\"Elapsed \", time.time() - t)\n",
    "    \n",
    "    return smooth\n",
    "    \n",
    "# smoothIm = filters.gaussian(np.asarray(im), 1)\n",
    "# print(type(smoothIm))\n",
    "# imshow(smoothIm)"
   ]
  },
  {
   "cell_type": "code",
   "execution_count": 7,
   "metadata": {},
   "outputs": [],
   "source": [
    "def getEdges(images):\n",
    "    edges = []\n",
    "    t = time.time()\n",
    "    total = len(images)\n",
    "    i = 0\n",
    "    for image in images:\n",
    "        sobel = filters.prewitt(image)\n",
    "        edge = filters.threshold_local(sobel, 3)\n",
    "        otsu = filters.threshold_otsu(edge)\n",
    "        edge = morphology.remove_small_objects(edge > otsu, 300)\n",
    "        edges.append(edge)\n",
    "        i += 1\n",
    "        print(\"ETA: \", ((time.time() - t) / i) * (total - i))\n",
    "    return edges\n"
   ]
  },
  {
   "cell_type": "code",
   "execution_count": 8,
   "metadata": {
    "scrolled": true
   },
   "outputs": [],
   "source": [
    "# # Run Sobel Filter\n",
    "# edges = []\n",
    "\n",
    "# for image in smooth:\n",
    "#     sobel = filters.prewitt(image)\n",
    "#     edge = filters.threshold_local(sobel, 3)\n",
    "#     otsu = filters.threshold_otsu(edge)\n",
    "#     edges.append(edge > otsu)\n",
    "    \n",
    "# #     low = 0.1\n",
    "# #     high = 0.35\n",
    "\n",
    "# #     lowt = (sobel > low).astype(int)\n",
    "# #     hight = (sobel > high).astype(int)\n",
    "# #     hyst = filters.apply_hysteresis_threshold(sobel, low, high)\n",
    "\n",
    "# #     edges.append(hyst)\n",
    "    \n",
    "# plot_images(edges, 'magma')\n",
    "    \n",
    "# for i, image in enumerate(edges):\n",
    "# #     edges[i] = imfill(edges[i], 'holes')\n",
    "# #     edges[i] = morphology.erosion(edges[i], morphology.disk(1))\n",
    "# #     edges[i] = morphology.remove_small_holes(edges[i], 100)\n",
    "#     edges[i] = morphology.remove_small_objects(edges[i], 300)\n",
    "# #     edges[i] = morphology.thin(edges[i])\n",
    "# #     edges[i] = np.array(edges[i], dtype=np.uint8)\n",
    "# #     points = cv2.findNonZero(edges[i])\n",
    "# #     for j in range(10):\n",
    "# #         print(points[j])\n",
    "# #     print(len(points))\n",
    "# #     edges[i] = morphology.convex_hull_image(edges[i])\n",
    "# #     edges[i] = morphology.opening(edges[i], morphology.disk(2))\n",
    "# plot_images(edges, 'magma')\n",
    "# # imshow(hight + hyst, cmap='magma')"
   ]
  },
  {
   "cell_type": "code",
   "execution_count": 9,
   "metadata": {},
   "outputs": [],
   "source": [
    "# # Crop\n",
    "\n",
    "# print(edges[0][0, :].shape)\n",
    "\n",
    "# for j, edge in enumerate(edges):\n",
    "#     l = 0\n",
    "#     d = edge.shape[0] - 1\n",
    "#     u = 0\n",
    "#     r = edge.shape[1] - 1\n",
    "#     for i in range(l, r):\n",
    "#         maxi = np.amax(edge[:, i])\n",
    "#         if (maxi == True):\n",
    "#             break\n",
    "#         l = i\n",
    "    \n",
    "#     for i in range(r, l, -1):\n",
    "#         maxi = np.amax(edge[:, i])\n",
    "#         if (maxi == True):\n",
    "#             break\n",
    "#         r = i\n",
    "    \n",
    "#     for i in range(u, d):\n",
    "#         maxi = np.amax(edge[i, :])\n",
    "#         if (maxi == True):\n",
    "#             break\n",
    "#         u = i\n",
    "    \n",
    "#     for i in range(d, u, -1):\n",
    "#         maxi = np.amax(edge[i, :])\n",
    "#         if (maxi == True):\n",
    "#             break\n",
    "#         d = i\n",
    "    \n",
    "#     images[j] = images[j].crop((l, u, r, d))\n",
    "    \n",
    "#     print(l, r, u, d)\n",
    "    \n",
    "# plot_images(images)"
   ]
  },
  {
   "cell_type": "markdown",
   "metadata": {},
   "source": [
    "## Get straight lines"
   ]
  },
  {
   "cell_type": "code",
   "execution_count": 10,
   "metadata": {},
   "outputs": [],
   "source": [
    "distThreshold = 60\n",
    "\n",
    "def getFeatures(ids, edges):\n",
    "    features = []\n",
    "    lined = []\n",
    "    total = len(edges)\n",
    "#     print(ids)\n",
    "    t = time.time()\n",
    "    for i, edge in enumerate(edges):\n",
    "    #     plot_images([images[0]])\n",
    "        img = cv2.imread(imageNames[ids[i]][0])\n",
    "        img = cv2.resize(img, dsize=(500, 500), interpolation=cv2.INTER_CUBIC)\n",
    "        edge = np.array(edge, dtype=np.uint8)\n",
    "        edge = cv2.resize(edge, dsize=(500, 500), interpolation=cv2.INTER_NEAREST)\n",
    "        edge = np.array(edge, dtype=np.uint8)\n",
    "        edge = morphology.thin(edge)\n",
    "        edge = morphology.dilation(edge, morphology.disk(2))\n",
    "#         plot_images([edge])\n",
    "        minLineLength = 200\n",
    "        maxLineGap = 10\n",
    "        edge = np.array(edge, dtype=np.uint8)\n",
    "#         edge = cv2.Canny(img, 50, 200, apertureSize=3)\n",
    "        \n",
    "#         plot_images([edge])\n",
    "        lines = cv2.HoughLinesP(edge,0.5,np.pi/(360),80,minLineLength,maxLineGap)\n",
    "        lineLen = 0\n",
    "        distances = []\n",
    "        img = np.zeros((500, 500))\n",
    "        maxi = 0\n",
    "        if type(lines) != type(None):\n",
    "            for line in lines:\n",
    "                for x1,y1,x2,y2 in line:\n",
    "                    d = np.sqrt((x2 - x1)**2 + (y2 - y1)**2)\n",
    "                    distances.append(d)\n",
    "#                     if d > distThreshold:\n",
    "                    cv2.line(img,(x1,y1),(x2,y2),255,2)\n",
    "                    maxi = max(maxi, d)\n",
    "\n",
    "        \n",
    "        img = morphology.thin(img)\n",
    "        s = sum(sum(img))\n",
    "#         print(sum(sum(img)))\n",
    "        lined.append(img)\n",
    "#         distances.sort(reverse=True)\n",
    "        # TODO: Fix\n",
    "        features.append((s, maxi))\n",
    "#         print(distances[:5])\n",
    "\n",
    "#     plot_images(lined)\n",
    "    \n",
    "        print((time.time() - t) * (total - i - 1) / (i+1))\n",
    "    return features\n"
   ]
  },
  {
   "cell_type": "code",
   "execution_count": 24,
   "metadata": {
    "scrolled": true
   },
   "outputs": [
    {
     "name": "stdout",
     "output_type": "stream",
     "text": [
      "Loaded  6000  images.\n",
      "Smoothened  0  images.\n",
      "Elapsed  6.604194641113281e-05\n",
      "430  birds\n",
      "268  drone\n"
     ]
    },
    {
     "data": {
      "image/png": "[encoded data removed]",
      "text/plain": [
       "<Figure size 432x288 with 1 Axes>"
      ]
     },
     "metadata": {
      "needs_background": "light"
     },
     "output_type": "display_data"
    }
   ],
   "source": [
    "BATCH_SIZE = 6000\n",
    "import random\n",
    "\n",
    "if __name__ == '__main__':\n",
    "    ids, edges = loadImages(BATCH_SIZE)\n",
    "    edges = smoothenImages(edges)\n",
    "    edges = getEdges(edges)\n",
    "    features = getFeatures(ids, edges)\n",
    "    \n",
    "    for i, id in enumerate(ids):\n",
    "#         print(i, id)\n",
    "#         print(imageNames[id])\n",
    "        fileName = '../features/' + imageNames[id][1] + '/' + imageNames[id][0].split('/')[-1:][0] + '.npy'\n",
    "#         print(fileName)\n",
    "        if (imageNames[id][1] == 'birds'):\n",
    "            birdFeatures.append(features[i][0])\n",
    "            birdFeatures2.append(features[i][1])\n",
    "        if (imageNames[id][1] == 'drones'):\n",
    "            droneFeatures.append(features[i][0])\n",
    "            droneFeatures2.append(features[i][1])\n",
    "#         print(features[i])\n",
    "#             xBirds.append(features[i][3:])\n",
    "#         np.save(fileName, features[i])\n",
    "\n",
    "    print(len(birdFeatures), \" birds\")\n",
    "    print(len(droneFeatures), \" drone\")\n",
    "    for i, f in enumerate(birdFeatures):\n",
    "        plt.plot(f**0.5, birdFeatures2[i]**0.7, 'ro', alpha=0.3)\n",
    "    for i, f in enumerate(droneFeatures):\n",
    "        plt.plot(f**0.5, droneFeatures2[i]**0.7, 'bo', alpha=0.4)\n",
    "    plt.show()"
   ]
  },
  {
   "cell_type": "code",
   "execution_count": 22,
   "metadata": {},
   "outputs": [
    {
     "data": {
      "image/png": "[encoded data removed]",
      "text/plain": [
       "<Figure size 432x288 with 1 Axes>"
      ]
     },
     "metadata": {
      "needs_background": "light"
     },
     "output_type": "display_data"
    },
    {
     "data": {
      "image/png": "[encoded data removed]",
      "text/plain": [
       "<Figure size 432x288 with 1 Axes>"
      ]
     },
     "metadata": {
      "needs_background": "light"
     },
     "output_type": "display_data"
    }
   ],
   "source": [
    "import copy\n",
    "\n",
    "def power(feat, power):\n",
    "    for i, arr in enumerate(feat):\n",
    "        for j, val in enumerate(arr):\n",
    "            feat[i][j] = val ** power\n",
    "    return feat\n",
    "\n",
    "feat = []\n",
    "feat.append(copy.deepcopy(birdFeatures))\n",
    "feat.append(copy.deepcopy(droneFeatures))\n",
    "feat = power(feat, 0.5)\n",
    "plt.boxplot(feat)\n",
    "plt.show()\n",
    "\n",
    "feat = []\n",
    "feat.append(copy.deepcopy(birdFeatures2))\n",
    "feat.append(copy.deepcopy(droneFeatures2))\n",
    "feat = power(feat, 0.7)\n",
    "plt.boxplot(feat)\n",
    "plt.show()\n",
    "\n",
    "feat = []\n"
   ]
  },
  {
   "cell_type": "markdown",
   "metadata": {},
   "source": [
    "## Testing"
   ]
  },
  {
   "cell_type": "code",
   "execution_count": 3,
   "metadata": {},
   "outputs": [
    {
     "ename": "NameError",
     "evalue": "name 'birdFeatures' is not defined",
     "output_type": "error",
     "traceback": [
      "\u001b[0;31m---------------------------------------------------------------------------\u001b[0m",
      "\u001b[0;31mNameError\u001b[0m                                 Traceback (most recent call last)",
      "\u001b[0;32m<ipython-input-3-966a9e689ebd>\u001b[0m in \u001b[0;36m<module>\u001b[0;34m\u001b[0m\n\u001b[1;32m      1\u001b[0m \u001b[0mX\u001b[0m \u001b[0;34m=\u001b[0m \u001b[0;34m[\u001b[0m\u001b[0;34m]\u001b[0m\u001b[0;34m\u001b[0m\u001b[0m\n\u001b[1;32m      2\u001b[0m \u001b[0my\u001b[0m \u001b[0;34m=\u001b[0m \u001b[0;34m[\u001b[0m\u001b[0;34m]\u001b[0m\u001b[0;34m\u001b[0m\u001b[0m\n\u001b[0;32m----> 3\u001b[0;31m \u001b[0;32mfor\u001b[0m \u001b[0mi\u001b[0m\u001b[0;34m,\u001b[0m \u001b[0mf\u001b[0m \u001b[0;32min\u001b[0m \u001b[0menumerate\u001b[0m\u001b[0;34m(\u001b[0m\u001b[0mbirdFeatures\u001b[0m\u001b[0;34m)\u001b[0m\u001b[0;34m:\u001b[0m\u001b[0;34m\u001b[0m\u001b[0m\n\u001b[0m\u001b[1;32m      4\u001b[0m     \u001b[0mX\u001b[0m\u001b[0;34m.\u001b[0m\u001b[0mappend\u001b[0m\u001b[0;34m(\u001b[0m\u001b[0;34m[\u001b[0m\u001b[0mbirdFeatuers\u001b[0m\u001b[0;34m[\u001b[0m\u001b[0mi\u001b[0m\u001b[0;34m]\u001b[0m\u001b[0;34m,\u001b[0m \u001b[0mbirdFeatuers2\u001b[0m\u001b[0;34m[\u001b[0m\u001b[0mi\u001b[0m\u001b[0;34m]\u001b[0m\u001b[0;34m]\u001b[0m\u001b[0;34m)\u001b[0m\u001b[0;34m\u001b[0m\u001b[0m\n\u001b[1;32m      5\u001b[0m     \u001b[0my\u001b[0m\u001b[0;34m.\u001b[0m\u001b[0mappend\u001b[0m\u001b[0;34m(\u001b[0m\u001b[0;36m0\u001b[0m\u001b[0;34m)\u001b[0m\u001b[0;34m\u001b[0m\u001b[0m\n",
      "\u001b[0;31mNameError\u001b[0m: name 'birdFeatures' is not defined"
     ]
    }
   ],
   "source": [
    "X = []\n",
    "y = []\n",
    "for i, f in enumerate(birdFeatures):\n",
    "    X.append([birdFeatuers[i], birdFeatuers2[i]])\n",
    "    y.append(0)\n",
    "print(X)\n",
    "\n",
    "# X = [[0], [1], [2], [3]]\n",
    "# y = [0, 0, 1, 1]\n",
    "# from sklearn.neighbors import KNeighborsClassifier\n",
    "# neigh = KNeighborsClassifier(n_neighbors=3)\n",
    "# neigh.fit(X, y) \n",
    "# print(neigh.predict([[1.1]]))\n",
    "# print(neigh.predict_proba([[0.9]]))\n"
   ]
  },
  {
   "cell_type": "code",
   "execution_count": 13,
   "metadata": {},
   "outputs": [],
   "source": [
    "# import cv2\n",
    "# import numpy as np\n",
    "\n",
    "# feature1 = []\n",
    "\n",
    "# for i, image in enumerate(images):\n",
    "# #     plot_images([images[0]])\n",
    "#     img = cv2.imread(imageNames[i])\n",
    "#     gray = cv2.cvtColor(img,cv2.COLOR_BGR2GRAY)\n",
    "#     edges = cv2.Canny(gray,50,150,apertureSize = 3)\n",
    "# #     edges = morphology.remove_small_objects(edges, 300)\n",
    "#     edges = morphology.dilation(edges, morphology.disk(1))\n",
    "#     plot_images([edges])\n",
    "#     minLineLength = 100\n",
    "#     maxLineGap = 10\n",
    "#     lines = cv2.HoughLinesP(edges,0.01,np.pi/720,1,minLineLength,maxLineGap)\n",
    "#     if type(lines) != type(None):\n",
    "#         for line in lines:\n",
    "#             for x1,y1,x2,y2 in line:\n",
    "#                 cv2.line(img,(x1,y1),(x2,y2),(0,255,0),2)\n",
    "\n",
    "#     feature1.append(img)\n",
    "\n",
    "# plot_images(feature1)\n"
   ]
  },
  {
   "cell_type": "markdown",
   "metadata": {},
   "source": [
    "## Plot feature space\n"
   ]
  },
  {
   "cell_type": "code",
   "execution_count": 14,
   "metadata": {},
   "outputs": [],
   "source": [
    "# import copy\n",
    "\n",
    "# birdsX, birdsY = [], []\n",
    "# dronesX, dronesY = [], []\n",
    "# birdMarker = 'o'\n",
    "# droneMarker = 'x'\n",
    "\n",
    "\n",
    "# for i, feature in enumerate(features):\n",
    "# #     print(feature[0])\n",
    "#     if len(feature) <= 1:\n",
    "#         continue\n",
    "#     f = copy.deepcopy(feature)\n",
    "#     f = [x for x in f if x > 20]\n",
    "# #     print(f)\n",
    "#     s = sum(f)\n",
    "#     if imageNames[i][1] == 'birds':\n",
    "#         plt.plot(s, sum(feature[:2]) * s, 'r' + birdMarker, alpha=0.6)\n",
    "#     if imageNames[i][1] == 'drones':\n",
    "#         plt.plot(s, sum(feature[:2]) * s, 'b' + birdMarker, alpha=0.6)\n",
    "# # plt.legend(numpoints=1)\n",
    "# # plt.xlim(0, 1.8);\n",
    "# plt.show()"
   ]
  }
 ],
 "metadata": {
  "kernelspec": {
   "display_name": "Python 3",
   "language": "python",
   "name": "python3"
  },
  "language_info": {
   "codemirror_mode": {
    "name": "ipython",
    "version": 3
   },
   "file_extension": ".py",
   "mimetype": "text/x-python",
   "name": "python",
   "nbconvert_exporter": "python",
   "pygments_lexer": "ipython3",
   "version": "3.5.2"
  }
 },
 "nbformat": 4,
 "nbformat_minor": 2
}
