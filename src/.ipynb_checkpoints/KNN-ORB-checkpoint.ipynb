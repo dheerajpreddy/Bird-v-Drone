{
 "cells": [
  {
   "cell_type": "markdown",
   "metadata": {},
   "source": [
    "# Building a KNN with BOVW"
   ]
  },
  {
   "cell_type": "markdown",
   "metadata": {},
   "source": [
    "## Training the KNN with SIFT features"
   ]
  },
  {
   "cell_type": "code",
   "execution_count": 6,
   "metadata": {},
   "outputs": [],
   "source": [
    "#!/usr/bin/env python\n",
    "\n",
    "import argparse as ap\n",
    "# Importing library that supports user friendly commandline interfaces\n",
    "import cv2\n",
    "# Importing the opencv library\n",
    "# import imutils\n",
    "# Importing the library that supports basic image processing functions\n",
    "import numpy as np\n",
    "# Importing the array operations library for python\n",
    "import os\n",
    "# Importing the library which supports standard systems commands\n",
    "from scipy.cluster.vq import *\n",
    "# Importing the library which classifies set of observations into clusters\n",
    "from sklearn.preprocessing import StandardScaler\n",
    "# Importing the library that supports centering and scaling vectors"
   ]
  },
  {
   "cell_type": "code",
   "execution_count": 7,
   "metadata": {},
   "outputs": [],
   "source": [
    "def imlist(path):\n",
    "    \"\"\"\n",
    "    The function imlist returns all the names of the files in \n",
    "    the directory path supplied as argument to the function.\n",
    "    \"\"\"\n",
    "    return [os.path.join(path, f) for f in os.listdir(path)]\n",
    "\n",
    "def imshow(im_title, im):\n",
    "    ''' This is function to display the image'''\n",
    "    plt.figure()  \n",
    "    plt.title(im_title)\n",
    "    plt.axis(\"off\")\n",
    "    if len(im.shape) == 2:\n",
    "        plt.imshow(im, cmap = \"gray\")\n",
    "    else:\n",
    "        im_display = cv2.cvtColor(im, cv2.COLOR_RGB2BGR)\n",
    "        plt.imshow(im_display)\n",
    "    plt.show()\n",
    "\n",
    "def imreads(path):\n",
    "    '''\n",
    "    This reads all the images in a given folder and returns the results \n",
    "    '''\n",
    "    images_path = imlist(\"/home/bikz05/Desktop/back_projection\")\n",
    "    images = []\n",
    "    for image_path in images_path:\n",
    "        images.append(cv2.imread(image_path, cv2.CV_LOAD_IMAGE_COLOR))\n",
    "    return images\n",
    "\n",
    "def show(image, name=\"Image\"):\n",
    "    '''\n",
    "    Routine to display the image.\n",
    "    '''\n",
    "    cv2.namedWindow(name, cv2.WINDOW_NORMAL)\n",
    "    cv2.imshow(name, image)\n",
    "    cv2.waitKey(0)"
   ]
  },
  {
   "cell_type": "code",
   "execution_count": 8,
   "metadata": {},
   "outputs": [],
   "source": [
    "train_path = \"../dataset/train/\"\n",
    "training_names = os.listdir(train_path)  # Listing the train_path directory\n",
    "\n",
    "# Get all the path to the images and save them in a list\n",
    "# image_paths and the corresponding label in image_paths\n",
    "image_paths = []  # Inilialising the list\n",
    "image_classes = []  # Inilialising the list\n",
    "class_id = 0\n",
    "for training_name in training_names:  # Iterate over the training_names list\n",
    "    dir = os.path.join(train_path, training_name)\n",
    "    class_path = imlist(dir)\n",
    "    image_paths+=class_path\n",
    "    image_classes+=[class_id]*len(class_path)\n",
    "    class_id+=1"
   ]
  },
  {
   "cell_type": "code",
   "execution_count": 12,
   "metadata": {},
   "outputs": [
    {
     "name": "stdout",
     "output_type": "stream",
     "text": [
      "done\n"
     ]
    }
   ],
   "source": [
    "# Create feature extraction and keypoint detector objects\n",
    "fea_det = cv2.xfeatures2d.SIFT_create()\n",
    "# des_ext = cv2.DescriptorExtractor_create(\"SIFT\")\n",
    "surf = cv2.xfeatures2d.SURF_create()\n",
    "orb = cv2.ORB_create(nfeatures=1500)\n",
    "# brief = cv2.xfeatures2d.brief()\n",
    "# List where all the descriptors are stored\n",
    "des_list = []\n",
    "\n",
    "error_count = 0\n",
    "for image_path in image_paths:\n",
    "    im = cv2.imread(image_path)\n",
    "    try:\n",
    "        (kps, des) = fea_det.detectAndCompute(im, None)\n",
    "#         print des.shape, des2.shape, des3.shape\n",
    "    except:\n",
    "        print image_path\n",
    "    if des is not None:\n",
    "        des_list.append((image_path, des))\n",
    "    else:\n",
    "        print image_path\n",
    "print \"done\"\n",
    "# Stack all the descriptors vertically in a numpy array\n",
    "descriptors = des_list[0][1]\n",
    "for image_path, descriptor in des_list[1:]:\n",
    "    descriptors = np.vstack((descriptors, descriptor))"
   ]
  },
  {
   "cell_type": "code",
   "execution_count": 13,
   "metadata": {},
   "outputs": [],
   "source": [
    "# Perform k-means clustering\n",
    "k = 500  # Number of clusters\n",
    "voc, variance = kmeans(descriptors, k, 1)  # Perform Kmeans with default values\n",
    "\n",
    "# Calculate the histogram of features\n",
    "im_features = np.zeros((len(image_paths), k), \"float32\")\n",
    "for i in xrange(len(image_paths)):\n",
    "    words, distance = vq(des_list[i][1],voc)\n",
    "    for w in words:\n",
    "        im_features[i][w] += 1"
   ]
  },
  {
   "cell_type": "code",
   "execution_count": 14,
   "metadata": {},
   "outputs": [],
   "source": [
    "# Perform Tf-Idf vectorization\n",
    "nbr_occurences = np.sum( (im_features > 0) * 1, axis = 0)\n",
    "# Calculating the number of occurrences\n",
    "idf = np.array(np.log((1.0*len(image_paths)+1) / (1.0*nbr_occurences + 1)), 'float32')\n",
    "# Giving weight to one that occurs more frequently\n",
    "\n",
    "# Scaling the words\n",
    "stdSlr = StandardScaler().fit(im_features)\n",
    "im_features = stdSlr.transform(im_features)  # Scaling the visual words for better Prediction\n",
    "\n",
    "# Saving the contents into a file\n",
    "np.savetxt(\"samples_SIFT.data\",im_features)\n",
    "np.savetxt(\"responses_SIFT.data\",np.array(image_classes))\n",
    "np.save(\"training_names_SIFT.data\",training_names)\n",
    "np.save(\"stdSlr_SIFT.data\",stdSlr)\n",
    "np.save(\"voc_SIFT.data\",voc)"
   ]
  },
  {
   "cell_type": "markdown",
   "metadata": {},
   "source": [
    "## Testing KNN"
   ]
  },
  {
   "cell_type": "code",
   "execution_count": 16,
   "metadata": {},
   "outputs": [],
   "source": [
    "#!/usr/local/bin/python2.7\n",
    "\n",
    "import argparse as ap\n",
    "# Importing library that supports user friendly commandline interfaces\n",
    "import cv2\n",
    "# Importing the opencv library\n",
    "# import imutils\n",
    "# Importing the library that supports basic image processing functions\n",
    "import numpy as np\n",
    "# Importing the array operations library for python\n",
    "import os\n",
    "# Importing the library which supports standard systems commands\n",
    "from scipy.cluster.vq import *\n",
    "# Importing the library which classifies set of observations into clusters"
   ]
  },
  {
   "cell_type": "code",
   "execution_count": 20,
   "metadata": {},
   "outputs": [],
   "source": [
    "# Load the classifier, class names, scaler, number of clusters and vocabulary \n",
    "samples = np.loadtxt('samples_SIFT.data',np.float32)\n",
    "responses = np.loadtxt('responses_SIFT.data',np.float32)\n",
    "classes_names = np.load('training_names_SIFT.data.npy')\n",
    "voc = np.load('voc_SIFT.data.npy')\n",
    "k = 500  # Loading the number of cluster\n",
    "\n",
    "# Training the Knearest classifier with the test descriptors\n",
    "clf = cv2.ml.KNearest_create()\n",
    "clf.train(samples,cv2.ml.ROW_SAMPLE, responses)  # Train model using the training samples and corresponding responses\n",
    "\n",
    "test_path = \"../dataset/test/\""
   ]
  },
  {
   "cell_type": "code",
   "execution_count": 21,
   "metadata": {},
   "outputs": [],
   "source": [
    "image_paths = []\n",
    "image_classes = []\n",
    "class_id = 0\n",
    "testing_names = os.listdir(test_path)\n",
    "for testing_name in testing_names:\n",
    "        dir = os.path.join(test_path, testing_name)\n",
    "        class_path = imlist(dir)\n",
    "        image_paths+=class_path\n",
    "        image_classes+=[class_id]*len(class_path)\n",
    "        class_id+=1\n",
    "\n",
    "# # Get the path of the testing image(s) and store them in a list\n",
    "# image_paths = []\n",
    "# if args[\"testingSet\"]:\n",
    "#     test_path = args[\"testingSet\"]\n",
    "#     try:\n",
    "#         testing_names = os.listdir(test_path)\n",
    "#     except OSError:\n",
    "#         print \"No such directory {}\\nCheck if the file exists\".format(test_path)\n",
    "#         exit()\n",
    "#     for testing_name in testing_names:\n",
    "#         dir = os.path.join(test_path, testing_name)\n",
    "#         class_path = imutils.imlist(dir)\n",
    "#         image_paths+=class_path\n",
    "# else:\n",
    "#     image_paths = [args[\"image\"]]"
   ]
  },
  {
   "cell_type": "code",
   "execution_count": 26,
   "metadata": {},
   "outputs": [],
   "source": [
    "# Create feature extraction and keypoint detector objects\n",
    "# fea_det = cv2.FeatureDetector_create(\"SIFT\")\n",
    "# des_ext = cv2.DescriptorExtractor_create(\"SIFT\")\n",
    "fea_det = cv2.xfeatures2d.SIFT_create()\n",
    "# List where all the descriptors are stored\n",
    "des_list = []\n",
    "for image_path in image_paths:\n",
    "    im = cv2.imread(image_path)\n",
    "    if im is None:\n",
    "        print \"No such file {}\\nCheck if the file exists\".format(image_path)\n",
    "        exit()\n",
    "#     kpts = fea_det.detect(im)  # Computing the key points of test image\n",
    "#     kpts, des = des_ext.compute(im, kpts)  # Computing the descriptors of the test image\n",
    "    (kpts, des) = fea_det.detectAndCompute(im, None)\n",
    "    des_list.append((image_path, des))   # Appending the descriptors to a single list\n",
    "    \n",
    "# Stack all the descriptors vertically in a numpy array\n",
    "descriptors = des_list[0][1]\n",
    "for image_path, descriptor in des_list[0:]:\n",
    "    descriptors = np.vstack((descriptors, descriptor))   # Stacking the descriptors in to a numpy array"
   ]
  },
  {
   "cell_type": "code",
   "execution_count": 27,
   "metadata": {},
   "outputs": [],
   "source": [
    "# Computing the histogram of features\n",
    "test_features = np.zeros((len(image_paths), k), \"float32\")\n",
    "for i in xrange(len(image_paths)):\n",
    "    words, distance = vq(des_list[i][1],voc)\n",
    "    for w in words:\n",
    "        test_features[i][w] += 1  # Calculating the histogram of features\n",
    "\n",
    "# Perform Tf-Idf vectorization\n",
    "nbr_occurences = np.sum( (test_features > 0) * 1, axis = 0)  # Getting the number of occurrences of each word\n",
    "idf = np.array(np.log((1.0*len(image_paths)+1) / (1.0*nbr_occurences + 1)), 'float32')\n",
    "# Assigning weight to one that is occurring more frequently"
   ]
  },
  {
   "cell_type": "code",
   "execution_count": 29,
   "metadata": {},
   "outputs": [],
   "source": [
    "# Perform the predictions\n",
    "retval, results, neigh_resp, dists = clf.findNearest(test_features,k=17)\n",
    "# Finding the 17 nearest neighbours of the test image descriptor\n",
    "\n",
    "# if results[0][0] == 0:  # results[0][0] will have the predicted class\n",
    "#     prediction = \"Horse\"\n",
    "# else:\n",
    "#     prediction = \"Bike\""
   ]
  },
  {
   "cell_type": "code",
   "execution_count": 44,
   "metadata": {},
   "outputs": [
    {
     "name": "stdout",
     "output_type": "stream",
     "text": [
      "Accuracy: 0.803514376997\n"
     ]
    }
   ],
   "source": [
    "wrong_count_0 = 0\n",
    "wrong_count_1 = 0\n",
    "n1 = len(os.listdir(\"../dataset/test/birds/\"))\n",
    "n0 = len(os.listdir(\"../dataset/test/drones/\"))\n",
    "pred_id = []\n",
    "actual = []\n",
    "for i in xrange(len(image_paths)):\n",
    "    if results[i][0] == 1:\n",
    "        pred_id.append(\"birds\")\n",
    "    else:\n",
    "        pred_id.append(\"drones\")\n",
    "    if image_classes[i] == 0 and results[i][0] == 1:\n",
    "        wrong_count_0 +=1\n",
    "    if image_classes[i] == 1 and results[i][0] == 0:\n",
    "        wrong_count_1 +=1\n",
    "print \"Accuracy:\" , float(len(image_paths) - wrong_count_0 - wrong_count_1)/len(image_paths)"
   ]
  },
  {
   "cell_type": "code",
   "execution_count": 45,
   "metadata": {},
   "outputs": [
    {
     "name": "stdout",
     "output_type": "stream",
     "text": [
      "Confusion Matrix: \n",
      "[[222, 204], [42, 784]]\n"
     ]
    }
   ],
   "source": [
    "conf_matrix = [[n0-wrong_count_0, wrong_count_0], [wrong_count_1, n1-wrong_count_1]]\n",
    "print \"Confusion Matrix: \\n\", conf_matrix"
   ]
  },
  {
   "cell_type": "code",
   "execution_count": null,
   "metadata": {},
   "outputs": [],
   "source": []
  }
 ],
 "metadata": {
  "kernelspec": {
   "display_name": "Python 2",
   "language": "python",
   "name": "python2"
  },
  "language_info": {
   "codemirror_mode": {
    "name": "ipython",
    "version": 2
   },
   "file_extension": ".py",
   "mimetype": "text/x-python",
   "name": "python",
   "nbconvert_exporter": "python",
   "pygments_lexer": "ipython2",
   "version": "2.7.15"
  }
 },
 "nbformat": 4,
 "nbformat_minor": 2
}
