{
 "cells": [
  {
   "cell_type": "markdown",
   "metadata": {},
   "source": [
    "# Getting Global Features"
   ]
  },
  {
   "cell_type": "code",
   "execution_count": 41,
   "metadata": {},
   "outputs": [],
   "source": [
    "from sklearn.preprocessing import LabelEncoder\n",
    "from sklearn.preprocessing import MinMaxScaler\n",
    "import numpy as np\n",
    "import mahotas\n",
    "import cv2\n",
    "import os\n",
    "import h5py"
   ]
  },
  {
   "cell_type": "code",
   "execution_count": 42,
   "metadata": {},
   "outputs": [],
   "source": [
    "# fixed-sizes for image\n",
    "fixed_size = tuple((500, 500))\n",
    "\n",
    "# path to training data\n",
    "train_path = \"../dataset/train/\"\n",
    "\n",
    "# no.of.trees for Random Forests\n",
    "num_trees = 100\n",
    "\n",
    "# bins for histogram\n",
    "bins = 8\n",
    "\n",
    "# train_test_split size\n",
    "test_size = 0.40\n",
    "\n",
    "# seed for reproducing same results\n",
    "seed = 9"
   ]
  },
  {
   "cell_type": "code",
   "execution_count": 43,
   "metadata": {},
   "outputs": [],
   "source": [
    "# feature-descriptor-1: Hu Moments\n",
    "def fd_hu_moments(image):\n",
    "    image = cv2.cvtColor(image, cv2.COLOR_BGR2GRAY)\n",
    "    feature = cv2.HuMoments(cv2.moments(image)).flatten()\n",
    "    return feature\n",
    "\n",
    "# feature-descriptor-2: Haralick Texture\n",
    "def fd_haralick(image):\n",
    "    # convert the image to grayscale\n",
    "    gray = cv2.cvtColor(image, cv2.COLOR_BGR2GRAY)\n",
    "    # compute the haralick texture feature vector\n",
    "    haralick = mahotas.features.haralick(gray).mean(axis=0)\n",
    "    # return the result\n",
    "    return haralick\n",
    "\n",
    "# feature-descriptor-3: Color Histogram\n",
    "def fd_histogram(image, mask=None):\n",
    "    # convert the image to HSV color-space\n",
    "    image = cv2.cvtColor(image, cv2.COLOR_BGR2HSV)\n",
    "    # compute the color histogram\n",
    "    hist  = cv2.calcHist([image], [0, 1, 2], None, [bins, bins, bins], [0, 256, 0, 256, 0, 256])\n",
    "    # normalize the histogram\n",
    "    cv2.normalize(hist, hist)\n",
    "    # return the histogram\n",
    "    return hist.flatten()"
   ]
  },
  {
   "cell_type": "code",
   "execution_count": 44,
   "metadata": {
    "scrolled": true
   },
   "outputs": [
    {
     "name": "stdout",
     "output_type": "stream",
     "text": [
      "['birds', 'drones']\n",
      "[STATUS] processed folder: birds\n",
      "[STATUS] processed folder: drones\n",
      "[STATUS] completed Global Feature Extraction...\n",
      "[STATUS] feature vector size (31, 532)\n",
      "[STATUS] training Labels (31,)\n"
     ]
    }
   ],
   "source": [
    "# get the training labels\n",
    "train_labels = os.listdir(train_path)\n",
    "\n",
    "# sort the training labels\n",
    "train_labels.sort()\n",
    "print(train_labels)\n",
    "\n",
    "# empty lists to hold feature vectors and labels\n",
    "global_features = []\n",
    "labels = []\n",
    "\n",
    "i, j = 0, 0\n",
    "k = 0\n",
    "\n",
    "# num of images per class\n",
    "images_per_class = 80\n",
    "\n",
    "# loop over the training data sub-folders\n",
    "for training_name in train_labels:\n",
    "    # join the training data path and each species training folder\n",
    "    dir = os.path.join(train_path, training_name)\n",
    "\n",
    "    # get the current training label\n",
    "    current_label = training_name\n",
    "    files = os.listdir(dir)\n",
    "    k = 1\n",
    "    # loop over the images in each sub-folder\n",
    "    for file in files:\n",
    "        if '.jpg' in file or '.png' in file:\n",
    "            # get the image file name\n",
    "            file = dir + \"/\" + file\n",
    "\n",
    "            # read the image and resize it to a fixed-size\n",
    "            image = cv2.imread(file)\n",
    "#             print file\n",
    "            image = cv2.resize(image, fixed_size)\n",
    "\n",
    "            ####################################\n",
    "            # Global Feature extraction\n",
    "            ####################################\n",
    "            fv_hu_moments = fd_hu_moments(image)\n",
    "            fv_haralick   = fd_haralick(image)\n",
    "            fv_histogram  = fd_histogram(image)\n",
    "\n",
    "            ###################################\n",
    "            # Concatenate global features\n",
    "            ###################################\n",
    "            global_feature = np.hstack([fv_histogram, fv_haralick, fv_hu_moments])\n",
    "\n",
    "            # update the list of labels and feature vectors\n",
    "            labels.append(current_label)\n",
    "            global_features.append(global_feature)\n",
    "\n",
    "            i += 1\n",
    "            k += 1\n",
    "    print \"[STATUS] processed folder: {}\".format(current_label)\n",
    "    j += 1\n",
    "\n",
    "print \"[STATUS] completed Global Feature Extraction...\"\n",
    "\n",
    "# get the overall feature vector size\n",
    "print \"[STATUS] feature vector size {}\".format(np.array(global_features).shape)\n",
    "\n",
    "# get the overall training label size\n",
    "print \"[STATUS] training Labels {}\".format(np.array(labels).shape)"
   ]
  },
  {
   "cell_type": "code",
   "execution_count": 45,
   "metadata": {},
   "outputs": [
    {
     "name": "stdout",
     "output_type": "stream",
     "text": [
      "[STATUS] training labels encoded...\n",
      "[STATUS] feature vector normalized...\n",
      "[STATUS] target labels: [0 0 0 0 0 0 0 0 0 0 0 0 0 0 0 0 0 1 1 1 1 1 1 1 1 1 1 1 1 1 1]\n",
      "[STATUS] target labels shape: (31,)\n",
      "[STATUS] end of training..\n"
     ]
    }
   ],
   "source": [
    "# encode the target labels\n",
    "targetNames = np.unique(labels)\n",
    "le = LabelEncoder()\n",
    "target = le.fit_transform(labels)\n",
    "print \"[STATUS] training labels encoded...\"\n",
    "\n",
    "# normalize the feature vector in the range (0-1)\n",
    "scaler = MinMaxScaler(feature_range=(0, 1))\n",
    "rescaled_features = scaler.fit_transform(global_features)\n",
    "print \"[STATUS] feature vector normalized...\"\n",
    "\n",
    "print \"[STATUS] target labels: {}\".format(target)\n",
    "print \"[STATUS] target labels shape: {}\".format(target.shape)\n",
    "\n",
    "# save the feature vector using HDF5\n",
    "h5f_data = h5py.File('output/data.h5', 'w')\n",
    "h5f_data.create_dataset('dataset_1', data=np.array(rescaled_features))\n",
    "\n",
    "h5f_label = h5py.File('output/labels.h5', 'w')\n",
    "h5f_label.create_dataset('dataset_1', data=np.array(target))\n",
    "\n",
    "h5f_data.close()\n",
    "h5f_label.close()\n",
    "\n",
    "print \"[STATUS] end of training..\""
   ]
  },
  {
   "cell_type": "markdown",
   "metadata": {},
   "source": [
    "# Training Classifiers on the saved global features"
   ]
  },
  {
   "cell_type": "code",
   "execution_count": 46,
   "metadata": {},
   "outputs": [],
   "source": [
    "import h5py\n",
    "import numpy as np\n",
    "import os\n",
    "import glob\n",
    "import cv2\n",
    "from matplotlib import pyplot\n",
    "from sklearn.model_selection import train_test_split, cross_val_score\n",
    "from sklearn.model_selection import KFold, StratifiedKFold\n",
    "from sklearn.metrics import confusion_matrix, accuracy_score, classification_report\n",
    "from sklearn.linear_model import LogisticRegression\n",
    "from sklearn.tree import DecisionTreeClassifier\n",
    "from sklearn.ensemble import RandomForestClassifier\n",
    "from sklearn.neighbors import KNeighborsClassifier\n",
    "from sklearn.discriminant_analysis import LinearDiscriminantAnalysis\n",
    "from sklearn.naive_bayes import GaussianNB\n",
    "from sklearn.svm import SVC\n",
    "from sklearn.externals import joblib"
   ]
  },
  {
   "cell_type": "code",
   "execution_count": 51,
   "metadata": {},
   "outputs": [],
   "source": [
    "models = []\n",
    "models.append(('LR', LogisticRegression(random_state=9)))\n",
    "models.append(('LDA', LinearDiscriminantAnalysis()))\n",
    "models.append(('NB', KNeighborsClassifier()))\n",
    "models.append(('CART', DecisionTreeClassifier(random_state=9)))\n",
    "models.append(('RF', RandomForestClassifier(n_estimators=num_trees, random_state=9)))\n",
    "models.append(('KNN', GaussianNB()))\n",
    "models.append(('SVM', SVC(random_state=9)))"
   ]
  },
  {
   "cell_type": "code",
   "execution_count": 52,
   "metadata": {},
   "outputs": [
    {
     "name": "stdout",
     "output_type": "stream",
     "text": [
      "[STATUS] features shape: (31, 532)\n",
      "[STATUS] labels shape: (31,)\n"
     ]
    }
   ],
   "source": [
    "# variables to hold the results and names\n",
    "results = []\n",
    "names = []\n",
    "scoring = \"accuracy\"\n",
    "\n",
    "# import the feature vector and trained labels\n",
    "h5f_data = h5py.File('output/data.h5', 'r')\n",
    "h5f_label = h5py.File('output/labels.h5', 'r')\n",
    "\n",
    "global_features_string = h5f_data['dataset_1']\n",
    "global_labels_string = h5f_label['dataset_1']\n",
    "\n",
    "global_features = np.array(global_features_string)\n",
    "global_labels = np.array(global_labels_string)\n",
    "\n",
    "h5f_data.close()\n",
    "h5f_label.close()\n",
    "\n",
    "# verify the shape of the feature vector and labels\n",
    "print \"[STATUS] features shape: {}\".format(global_features.shape)\n",
    "print \"[STATUS] labels shape: {}\".format(global_labels.shape)"
   ]
  },
  {
   "cell_type": "code",
   "execution_count": 53,
   "metadata": {},
   "outputs": [
    {
     "name": "stdout",
     "output_type": "stream",
     "text": [
      "[STATUS] training started...\n",
      "[STATUS] splitted train and test data...\n",
      "Train data  : (18, 532)\n",
      "Test data   : (13, 532)\n",
      "Train labels: (18,)\n",
      "Test labels : (13,)\n"
     ]
    }
   ],
   "source": [
    "print \"[STATUS] training started...\"\n",
    "\n",
    "# split the training and testing data\n",
    "(trainDataGlobal, testDataGlobal, trainLabelsGlobal, testLabelsGlobal) = train_test_split(np.array(global_features),\n",
    "                                                                                          np.array(global_labels),\n",
    "                                                                                          test_size=test_size,\n",
    "                                                                                          random_state=seed)\n",
    "\n",
    "print \"[STATUS] splitted train and test data...\"\n",
    "print \"Train data  : {}\".format(trainDataGlobal.shape)\n",
    "print \"Test data   : {}\".format(testDataGlobal.shape)\n",
    "print \"Train labels: {}\".format(trainLabelsGlobal.shape)\n",
    "print \"Test labels : {}\".format(testLabelsGlobal.shape)\n",
    "\n",
    "# filter all the warnings\n",
    "import warnings\n",
    "warnings.filterwarnings('ignore')"
   ]
  },
  {
   "cell_type": "code",
   "execution_count": 54,
   "metadata": {},
   "outputs": [
    {
     "name": "stdout",
     "output_type": "stream",
     "text": [
      "LR: 0.950000 (0.150000)\n",
      "LDA: 0.950000 (0.150000)\n",
      "NB: 0.350000 (0.390512)\n",
      "CART: 0.650000 (0.320156)\n",
      "RF: 0.850000 (0.229129)\n",
      "KNN: 0.850000 (0.229129)\n",
      "SVM: 0.650000 (0.390512)\n"
     ]
    },
    {
     "data": {
      "image/png": "[encoded data removed]",
      "text/plain": [
       "<Figure size 432x288 with 1 Axes>"
      ]
     },
     "metadata": {},
     "output_type": "display_data"
    }
   ],
   "source": [
    "# 10-fold cross validation\n",
    "for name, model in models:\n",
    "    kfold = KFold(n_splits=10, random_state=7)\n",
    "    cv_results = cross_val_score(model, trainDataGlobal, trainLabelsGlobal, cv=kfold, scoring=scoring)\n",
    "    results.append(cv_results)\n",
    "    names.append(name)\n",
    "    msg = \"%s: %f (%f)\" % (name, cv_results.mean(), cv_results.std())\n",
    "    print(msg)\n",
    "\n",
    "# boxplot algorithm comparison\n",
    "fig = pyplot.figure()\n",
    "fig.suptitle('Machine Learning algorithm comparison')\n",
    "ax = fig.add_subplot(111)\n",
    "pyplot.boxplot(results)\n",
    "ax.set_xticklabels(names)\n",
    "pyplot.show()"
   ]
  },
  {
   "cell_type": "markdown",
   "metadata": {},
   "source": [
    "#-----------------------------------\n",
    "# TESTING OUR MODEL\n",
    "#-----------------------------------\n",
    "\n",
    "# to visualize results\n",
    "import matplotlib.pyplot as plt\n",
    "%matplotlib inline\n",
    "\n",
    "# create the model - Random Forests\n",
    "clf  = RandomForestClassifier(n_estimators=100, random_state=9)\n",
    "\n",
    "# fit the training data to the model\n",
    "clf.fit(trainDataGlobal, trainLabelsGlobal)\n",
    "\n",
    "# path to test data\n",
    "test_path = \"../dataset/test\"\n",
    "\n",
    "files = os.listdir(test_path)\n",
    "# loop through the test images\n",
    "for file in files:\n",
    "    if '.jpg' in file or '.png' in file:\n",
    "        # read the image\n",
    "#         print file\n",
    "        file = test_path + \"/\" + file\n",
    "        image = cv2.imread(file)\n",
    "\n",
    "        # resize the image\n",
    "        image = cv2.resize(image, fixed_size)\n",
    "\n",
    "        ####################################\n",
    "        # Global Feature extraction\n",
    "        ####################################\n",
    "        fv_hu_moments = fd_hu_moments(image)\n",
    "        fv_haralick   = fd_haralick(image)\n",
    "        fv_histogram  = fd_histogram(image)\n",
    "\n",
    "        ###################################\n",
    "        # Concatenate global features\n",
    "        ###################################\n",
    "        global_feature = np.hstack([fv_histogram, fv_haralick, fv_hu_moments])\n",
    "\n",
    "        # predict label of test image\n",
    "        prediction = clf.predict(global_feature.reshape(1,-1))[0]\n",
    "\n",
    "        # show predicted label on image\n",
    "        cv2.putText(image, train_labels[prediction], (20,30), cv2.FONT_HERSHEY_SIMPLEX, 1.0, (0,255,255), 3)\n",
    "\n",
    "        # display the output image\n",
    "        plt.imshow(cv2.cvtColor(image, cv2.COLOR_BGR2RGB))\n",
    "        plt.show()"
   ]
  },
  {
   "cell_type": "markdown",
   "metadata": {},
   "source": [
    "print(\"Classification report for classifier %s:\\n%s\\n\"\n",
    "      % (classifier, metrics.classification_report(y_test, y_pred)))\n",
    "print(\"Confusion matrix:\\n%s\" % metrics.confusion_matrix(y_test, y_pred))"
   ]
  },
  {
   "cell_type": "code",
   "execution_count": null,
   "metadata": {},
   "outputs": [],
   "source": []
  }
 ],
 "metadata": {
  "kernelspec": {
   "display_name": "Python 2",
   "language": "python",
   "name": "python2"
  },
  "language_info": {
   "codemirror_mode": {
    "name": "ipython",
    "version": 2
   },
   "file_extension": ".py",
   "mimetype": "text/x-python",
   "name": "python",
   "nbconvert_exporter": "python",
   "pygments_lexer": "ipython2",
   "version": "2.7.15"
  }
 },
 "nbformat": 4,
 "nbformat_minor": 2
}
