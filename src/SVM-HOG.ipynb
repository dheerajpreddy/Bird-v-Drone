{
 "cells": [
  {
   "cell_type": "markdown",
   "metadata": {
    "_cell_guid": "2ccf17df-b189-43fe-b01b-9e46a918a55b",
    "_uuid": "339988d2ae05e7ceb5217db4675fa6d0de373c4a"
   },
   "source": [
    "**Introduction**\n",
    "\n",
    "\n",
    "In this analysis  Support Vector Machines (SVM) are used to train a model to classify if an image contains a ship or not. The  feature representation method Histogram of Oriented Gradients (HOG) are used as the feature representation. Although deep learning approaches have proven there superiority in similar image recognition/classification problem, given the small size of the data set it is interesting to find out how a traditional computer vision approach performs in a situation like this."
   ]
  },
  {
   "cell_type": "code",
   "execution_count": 5,
   "metadata": {
    "_cell_guid": "7cce4402-c8ec-4f5e-9d0d-b9b64353c133",
    "_uuid": "6df37a27fc458ba5bc6ea1859368e0e6837ddbff"
   },
   "outputs": [],
   "source": [
    "# This Python 3 environment comes with many helpful analytics libraries installed\n",
    "# It is defined by the kaggle/python docker image: https://github.com/kaggle/docker-python\n",
    "# For example, here's several helpful packages to load in \n",
    "\n",
    "import numpy as np # linear algebra\n",
    "import json\n",
    "from matplotlib import pyplot as plt\n",
    "from skimage import color\n",
    "from skimage.feature import hog\n",
    "from sklearn import svm\n",
    "from sklearn.metrics import classification_report,accuracy_score\n",
    "import os, cv2\n",
    "# Any results you write to the current directory are saved as output."
   ]
  },
  {
   "cell_type": "code",
   "execution_count": 6,
   "metadata": {
    "_cell_guid": "050ea734-d768-4c11-9055-3927e76fb4db",
    "_uuid": "323810beeed04ac01affae755fea578adab6e0c6"
   },
   "outputs": [],
   "source": [
    "def imlist(path):\n",
    "    \"\"\"\n",
    "    The function imlist returns all the names of the files in \n",
    "    the directory path supplied as argument to the function.\n",
    "    \"\"\"\n",
    "    return [os.path.join(path, f) for f in os.listdir(path)]"
   ]
  },
  {
   "cell_type": "code",
   "execution_count": 7,
   "metadata": {},
   "outputs": [],
   "source": [
    "train_path = \"../dataset/train/\"\n",
    "training_names = os.listdir(train_path)\n",
    "image_paths = []\n",
    "image_classes = []\n",
    "class_id = 0\n",
    "for training_name in training_names:\n",
    "    dir = os.path.join(train_path, training_name)\n",
    "    class_path = imlist(dir)\n",
    "    image_paths+=class_path\n",
    "    image_classes+=[class_id]*len(class_path)\n",
    "    class_id+=1"
   ]
  },
  {
   "cell_type": "code",
   "execution_count": 18,
   "metadata": {},
   "outputs": [
    {
     "name": "stderr",
     "output_type": "stream",
     "text": [
      "/usr/local/lib/python3.7/site-packages/skimage/feature/_hog.py:248: skimage_deprecation: Argument `visualise` is deprecated and will be changed to `visualize` in v0.16\n",
      "  'be changed to `visualize` in v0.16', skimage_deprecation)\n"
     ]
    }
   ],
   "source": [
    "im = cv2.imread(image_paths[0])\n",
    "ppc=16\n",
    "fd, hog_img = hog(im, orientations=8, pixels_per_cell=(ppc,ppc),cells_per_block=(4, 4),block_norm= 'L2',visualise=True)"
   ]
  },
  {
   "cell_type": "markdown",
   "metadata": {
    "_cell_guid": "a101f220-46ca-41fc-a091-7491917b71a1",
    "_uuid": "ba525ff7e714c9cc1a28cb9370b9986afcfea4bf"
   },
   "source": [
    "Load the data and see check how an image looks like"
   ]
  },
  {
   "cell_type": "code",
   "execution_count": null,
   "metadata": {
    "_cell_guid": "71e24327-1562-4664-b73e-38b9b3ae5146",
    "_uuid": "543c9aea8f366f988fea7073102991c408ef4fcf"
   },
   "outputs": [],
   "source": [
    "data = np.array(dataset['data']).astype('uint8')\n",
    "img_length = 80\n",
    "data = data.reshape(-1,3,img_length,img_length).transpose([0,2,3,1])\n",
    "\n",
    "plt.imshow(data[51])"
   ]
  },
  {
   "cell_type": "markdown",
   "metadata": {
    "_cell_guid": "3d87c788-f145-41d5-928f-ff7d81d96f6b",
    "_uuid": "1bb330dd7cd3d9a46ac019dd88e0481c796efade"
   },
   "source": [
    "Convert the images to grayscale colorspace before calculating the HOG features for each image"
   ]
  },
  {
   "cell_type": "code",
   "execution_count": null,
   "metadata": {
    "_cell_guid": "7907cd4f-d7f0-464f-84ca-0f6b3da6d01e",
    "_uuid": "4c8de1455b2d1c63bf0b823c35d5371eb82c8b90"
   },
   "outputs": [],
   "source": [
    "data_gray = [ color.rgb2gray(i) for i in data]\n",
    "plt.imshow(data_gray[51])"
   ]
  },
  {
   "cell_type": "code",
   "execution_count": null,
   "metadata": {
    "_cell_guid": "0f983630-1e7f-411a-a48d-01be7a1d6533",
    "_uuid": "3205c2a33a3a34d0eefdc51ad15339d5d44ba496",
    "collapsed": true
   },
   "outputs": [],
   "source": [
    "ppc = 16\n",
    "hog_images = []\n",
    "hog_features = []\n",
    "for image in data_gray:\n",
    "    fd,hog_image = hog(image, orientations=8, pixels_per_cell=(ppc,ppc),cells_per_block=(4, 4),block_norm= 'L2',visualise=True)\n",
    "    hog_images.append(hog_image)\n",
    "    hog_features.append(fd)"
   ]
  },
  {
   "cell_type": "markdown",
   "metadata": {
    "_cell_guid": "c5fb9482-68dd-49ed-a696-a918caab2a0e",
    "_uuid": "0dc767c5f42c33ce23d517e5a3fb4ba862c8f469"
   },
   "source": [
    "The hog function of skimage returns a matrix that can be used to visualize the gradients"
   ]
  },
  {
   "cell_type": "code",
   "execution_count": null,
   "metadata": {
    "_cell_guid": "1d99eebf-84d6-4bbc-8698-0bee54dc7bb9",
    "_uuid": "e242d313fc8101d26e83996cd0567461cea60555"
   },
   "outputs": [],
   "source": [
    "plt.imshow(hog_images[51])"
   ]
  },
  {
   "cell_type": "code",
   "execution_count": null,
   "metadata": {
    "_cell_guid": "2e73c2eb-d6b9-4c02-9149-2515b44fa7f8",
    "_uuid": "e4d43456af03dcfcf0587b7a4ca1b7d7fbe466d8",
    "collapsed": true
   },
   "outputs": [],
   "source": [
    "labels =  np.array(dataset['labels']).reshape(len(dataset['labels']),1)"
   ]
  },
  {
   "cell_type": "markdown",
   "metadata": {
    "_cell_guid": "a49b7994-cda6-4160-8c08-db0271ad0b35",
    "_uuid": "03422c5af98cc84ca1c6428ac8bfa3ae9e4cca6c"
   },
   "source": [
    "Fit a simple SVM classifier to the data . Make sure to shuffle the data before fitting it to the model"
   ]
  },
  {
   "cell_type": "code",
   "execution_count": null,
   "metadata": {
    "_cell_guid": "3963fce6-6f74-45f8-b4b1-d6df7741c40a",
    "_uuid": "6ea82e9e469efbb52e15a1b9eb1f13f411cf44bb"
   },
   "outputs": [],
   "source": [
    "clf = svm.SVC()\n",
    "hog_features = np.array(hog_features)\n",
    "data_frame = np.hstack((hog_features,labels))\n",
    "np.random.shuffle(data_frame)"
   ]
  },
  {
   "cell_type": "code",
   "execution_count": null,
   "metadata": {
    "_cell_guid": "36381116-f599-41f6-a78d-ea2054d57156",
    "_uuid": "8940f9e316bb736a14f4f6bdfaa854a9aae43e5d"
   },
   "outputs": [],
   "source": [
    "#What percentage of data you want to keep for training\n",
    "percentage = 80\n",
    "partition = int(len(hog_features)*percentage/100)"
   ]
  },
  {
   "cell_type": "code",
   "execution_count": null,
   "metadata": {
    "_cell_guid": "0589e60c-ad50-4510-bd29-a0a7e5957589",
    "_uuid": "12befca6c78e5a651cf5a2caf728d840579fcddb"
   },
   "outputs": [],
   "source": [
    "x_train, x_test = data_frame[:partition,:-1],  data_frame[partition:,:-1]\n",
    "y_train, y_test = data_frame[:partition,-1:].ravel() , data_frame[partition:,-1:].ravel()\n",
    "\n",
    "clf.fit(x_train,y_train)"
   ]
  },
  {
   "cell_type": "code",
   "execution_count": null,
   "metadata": {
    "_cell_guid": "6a23f296-ef7c-4434-8670-7da458cb7083",
    "_uuid": "169573ca753acae6cedde8e50213cea5b2f9c07b",
    "collapsed": true
   },
   "outputs": [],
   "source": [
    "y_pred = clf.predict(x_test)"
   ]
  },
  {
   "cell_type": "code",
   "execution_count": null,
   "metadata": {
    "_cell_guid": "91ab6668-92c9-40f8-9432-8de008021a34",
    "_uuid": "c34aeca6ac1adcbe3160bfbfd0ac5cb6ea68cc4f"
   },
   "outputs": [],
   "source": [
    "print(\"Accuracy: \"+str(accuracy_score(y_test, y_pred)))\n",
    "print('\\n')\n",
    "print(classification_report(y_test, y_pred))"
   ]
  },
  {
   "cell_type": "markdown",
   "metadata": {
    "_cell_guid": "f96ff658-ea0a-4510-bb40-fd732b48dab4",
    "_uuid": "3919c5130cb6b2e0e86c3d4b3e0c91a8ce2651c9"
   },
   "source": [
    "This shows that we can gain considerably good results with computer vision approaches alone. "
   ]
  },
  {
   "cell_type": "code",
   "execution_count": null,
   "metadata": {
    "_cell_guid": "2e84dcd4-b554-41f0-8559-df4d67782242",
    "_uuid": "6369a9db086f94305d81cf016299f54790dc282f",
    "collapsed": true
   },
   "outputs": [],
   "source": []
  }
 ],
 "metadata": {
  "kernelspec": {
   "display_name": "Python 3",
   "language": "python",
   "name": "python3"
  },
  "language_info": {
   "codemirror_mode": {
    "name": "ipython",
    "version": 3
   },
   "file_extension": ".py",
   "mimetype": "text/x-python",
   "name": "python",
   "nbconvert_exporter": "python",
   "pygments_lexer": "ipython3",
   "version": "3.7.0"
  }
 },
 "nbformat": 4,
 "nbformat_minor": 1
}
